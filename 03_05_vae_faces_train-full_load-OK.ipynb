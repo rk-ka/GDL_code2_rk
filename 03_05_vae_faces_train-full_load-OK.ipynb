{
 "cells": [
  {
   "cell_type": "markdown",
   "metadata": {},
   "source": [
    "# VAE Training - Faces dataset"
   ]
  },
  {
   "cell_type": "code",
   "execution_count": 1,
   "metadata": {},
   "outputs": [
    {
     "name": "stdout",
     "output_type": "stream",
     "text": [
      "1 Physical GPUs, 1 Logical GPUs\n"
     ]
    }
   ],
   "source": [
    "#GPU tuning\n",
    "import tensorflow as tf\n",
    "\n",
    "gpus = tf.config.experimental.list_physical_devices('GPU')\n",
    "if gpus:\n",
    "  try:\n",
    "    # Currently, memory growth needs to be the same across GPUs\n",
    "    for gpu in gpus:\n",
    "      tf.config.experimental.set_memory_growth(gpu, True)\n",
    "    logical_gpus = tf.config.experimental.list_logical_devices('GPU')\n",
    "    print(len(gpus), \"Physical GPUs,\", len(logical_gpus), \"Logical GPUs\")\n",
    "  except RuntimeError as e:\n",
    "    # Memory growth must be set before GPUs have been initialized\n",
    "    print(e)"
   ]
  },
  {
   "cell_type": "markdown",
   "metadata": {},
   "source": [
    "## imports"
   ]
  },
  {
   "cell_type": "code",
   "execution_count": 2,
   "metadata": {},
   "outputs": [],
   "source": [
    "%load_ext autoreload\n",
    "%autoreload 2"
   ]
  },
  {
   "cell_type": "code",
   "execution_count": 3,
   "metadata": {},
   "outputs": [],
   "source": [
    "import os\n",
    "from glob import glob\n",
    "import numpy as np\n",
    "import shutil\n",
    "\n",
    "import time\n",
    "import datetime\n",
    "\n",
    "from models.VAE_a import VariationalAutoencoder\n",
    "from tensorflow.keras.preprocessing.image import ImageDataGenerator\n"
   ]
  },
  {
   "cell_type": "code",
   "execution_count": 4,
   "metadata": {
    "scrolled": true
   },
   "outputs": [
    {
     "name": "stdout",
     "output_type": "stream",
     "text": [
      "run/vae/0001_faces\n",
      "data/CelebA/celeba_200k\n"
     ]
    }
   ],
   "source": [
    "# run params\n",
    "section = 'vae'\n",
    "run_id = '0001'\n",
    "data_name = 'faces'\n",
    "RUN_FOLDER = 'run/{}/'.format(section)\n",
    "RUN_FOLDER += '_'.join([run_id, data_name])\n",
    "\n",
    "if not os.path.exists(RUN_FOLDER):\n",
    "    os.mkdir(RUN_FOLDER)\n",
    "    os.mkdir(os.path.join(RUN_FOLDER, 'viz'))\n",
    "    os.mkdir(os.path.join(RUN_FOLDER, 'images'))\n",
    "    os.mkdir(os.path.join(RUN_FOLDER, 'weights'))\n",
    "\n",
    "mode =  'load' # 'build' #\n",
    "\n",
    "DATA_FOLDER_0 = 'data/CelebA/'\n",
    "DATA_FOLDER = os.path.join(DATA_FOLDER_0, 'celeba_200k') \n",
    "\n",
    "print(RUN_FOLDER)\n",
    "print(DATA_FOLDER)"
   ]
  },
  {
   "cell_type": "markdown",
   "metadata": {},
   "source": [
    "## data"
   ]
  },
  {
   "cell_type": "code",
   "execution_count": 5,
   "metadata": {},
   "outputs": [
    {
     "data": {
      "text/plain": [
       "202560"
      ]
     },
     "execution_count": 5,
     "metadata": {},
     "output_type": "execute_result"
    }
   ],
   "source": [
    "INPUT_DIM = (128,128,3)\n",
    "BATCH_SIZE = 32\n",
    "EPOCHS = 10\n",
    "\n",
    "filenames = np.array(glob(os.path.join(DATA_FOLDER, '*/*.jpg')))\n",
    "\n",
    "NUM_IMAGES = len(filenames)\n",
    "NUM_IMAGES"
   ]
  },
  {
   "cell_type": "code",
   "execution_count": 6,
   "metadata": {},
   "outputs": [
    {
     "name": "stdout",
     "output_type": "stream",
     "text": [
      "Dataset OK\n"
     ]
    }
   ],
   "source": [
    "# Dataset check \n",
    "move_flag = False \n",
    "\n",
    "if NUM_IMAGES % BATCH_SIZE !=0:\n",
    "    print(\"WARNING: Dataset size not match with EPOCHS! extra:\",  NUM_IMAGES % BATCH_SIZE )\n",
    "    move_flag = True\n",
    "    move_files = filenames[-(NUM_IMAGES % BATCH_SIZE):]       \n",
    "else:\n",
    "    print(\"Dataset OK\")\n",
    "    move_flag = False \n",
    "\n",
    "# Move extra files from Dataset\n",
    "    \n",
    "if move_flag:\n",
    "    move_dir = os.path.join(DATA_FOLDER_0, 'move_dir')\n",
    "    print(\"Move {:d} files to: {:s}\".format(len(move_files), move_dir))\n",
    "    ask = input(\"Proceed? (0 - NO)_\")\n",
    "    if ask != '0':\n",
    "        if not os.path.exists(move_dir):\n",
    "            os.mkdir(move_dir)\n",
    "        for f in move_files:\n",
    "            #print(f, os.path.join(move_dir, f.split('\\\\')[-1]))\n",
    "            shutil.move(f, os.path.join(move_dir, f.split('\\\\')[-1]))\n",
    "        print(\"move files - done\")\n",
    "    else:\n",
    "        print(\"canceled\")\n",
    "    "
   ]
  },
  {
   "cell_type": "code",
   "execution_count": 7,
   "metadata": {},
   "outputs": [
    {
     "data": {
      "text/plain": [
       "202560"
      ]
     },
     "execution_count": 7,
     "metadata": {},
     "output_type": "execute_result"
    }
   ],
   "source": [
    "filenames = np.array(glob(os.path.join(DATA_FOLDER, '*/*.jpg')))\n",
    "\n",
    "NUM_IMAGES = len(filenames)\n",
    "NUM_IMAGES "
   ]
  },
  {
   "cell_type": "code",
   "execution_count": 8,
   "metadata": {
    "scrolled": true
   },
   "outputs": [
    {
     "name": "stdout",
     "output_type": "stream",
     "text": [
      "Found 202560 images belonging to 1 classes.\n"
     ]
    }
   ],
   "source": [
    "data_gen = ImageDataGenerator(rescale=1./255)\n",
    "\n",
    "data_flow = data_gen.flow_from_directory(DATA_FOLDER\n",
    "                                         , target_size = INPUT_DIM[:2]\n",
    "                                         , batch_size = BATCH_SIZE\n",
    "                                         , shuffle = True\n",
    "                                         , class_mode = 'input'\n",
    "                                         , subset = \"training\"\n",
    "                                            )"
   ]
  },
  {
   "cell_type": "markdown",
   "metadata": {},
   "source": [
    "## architecture"
   ]
  },
  {
   "cell_type": "code",
   "execution_count": 9,
   "metadata": {},
   "outputs": [],
   "source": [
    "vae = VariationalAutoencoder(\n",
    "                input_dim = INPUT_DIM\n",
    "                , encoder_conv_filters=[32,64,64, 64]\n",
    "                , encoder_conv_kernel_size=[3,3,3,3]\n",
    "                , encoder_conv_strides=[2,2,2,2]\n",
    "                , decoder_conv_t_filters=[64,64,32,3]\n",
    "                , decoder_conv_t_kernel_size=[3,3,3,3]\n",
    "                , decoder_conv_t_strides=[2,2,2,2]\n",
    "                , z_dim=200\n",
    "                , use_batch_norm=True\n",
    "                , use_dropout=True\n",
    "                , r_loss_factor = 10000\n",
    "                )\n",
    "\n",
    "if mode == 'build':\n",
    "    vae.save(RUN_FOLDER)\n",
    "else:\n",
    "    vae.load_weights(os.path.join(RUN_FOLDER, 'weights/weights_BIG'))"
   ]
  },
  {
   "cell_type": "code",
   "execution_count": 10,
   "metadata": {},
   "outputs": [
    {
     "name": "stdout",
     "output_type": "stream",
     "text": [
      "Model: \"encoder\"\n",
      "__________________________________________________________________________________________________\n",
      "Layer (type)                    Output Shape         Param #     Connected to                     \n",
      "==================================================================================================\n",
      "encoder_input (InputLayer)      [(None, 128, 128, 3) 0                                            \n",
      "__________________________________________________________________________________________________\n",
      "encoder_conv_0 (Conv2D)         (None, 64, 64, 32)   896         encoder_input[0][0]              \n",
      "__________________________________________________________________________________________________\n",
      "batch_normalization (BatchNorma (None, 64, 64, 32)   128         encoder_conv_0[0][0]             \n",
      "__________________________________________________________________________________________________\n",
      "leaky_re_lu (LeakyReLU)         (None, 64, 64, 32)   0           batch_normalization[0][0]        \n",
      "__________________________________________________________________________________________________\n",
      "dropout (Dropout)               (None, 64, 64, 32)   0           leaky_re_lu[0][0]                \n",
      "__________________________________________________________________________________________________\n",
      "encoder_conv_1 (Conv2D)         (None, 32, 32, 64)   18496       dropout[0][0]                    \n",
      "__________________________________________________________________________________________________\n",
      "batch_normalization_1 (BatchNor (None, 32, 32, 64)   256         encoder_conv_1[0][0]             \n",
      "__________________________________________________________________________________________________\n",
      "leaky_re_lu_1 (LeakyReLU)       (None, 32, 32, 64)   0           batch_normalization_1[0][0]      \n",
      "__________________________________________________________________________________________________\n",
      "dropout_1 (Dropout)             (None, 32, 32, 64)   0           leaky_re_lu_1[0][0]              \n",
      "__________________________________________________________________________________________________\n",
      "encoder_conv_2 (Conv2D)         (None, 16, 16, 64)   36928       dropout_1[0][0]                  \n",
      "__________________________________________________________________________________________________\n",
      "batch_normalization_2 (BatchNor (None, 16, 16, 64)   256         encoder_conv_2[0][0]             \n",
      "__________________________________________________________________________________________________\n",
      "leaky_re_lu_2 (LeakyReLU)       (None, 16, 16, 64)   0           batch_normalization_2[0][0]      \n",
      "__________________________________________________________________________________________________\n",
      "dropout_2 (Dropout)             (None, 16, 16, 64)   0           leaky_re_lu_2[0][0]              \n",
      "__________________________________________________________________________________________________\n",
      "encoder_conv_3 (Conv2D)         (None, 8, 8, 64)     36928       dropout_2[0][0]                  \n",
      "__________________________________________________________________________________________________\n",
      "batch_normalization_3 (BatchNor (None, 8, 8, 64)     256         encoder_conv_3[0][0]             \n",
      "__________________________________________________________________________________________________\n",
      "leaky_re_lu_3 (LeakyReLU)       (None, 8, 8, 64)     0           batch_normalization_3[0][0]      \n",
      "__________________________________________________________________________________________________\n",
      "dropout_3 (Dropout)             (None, 8, 8, 64)     0           leaky_re_lu_3[0][0]              \n",
      "__________________________________________________________________________________________________\n",
      "flatten (Flatten)               (None, 4096)         0           dropout_3[0][0]                  \n",
      "__________________________________________________________________________________________________\n",
      "mu (Dense)                      (None, 200)          819400      flatten[0][0]                    \n",
      "__________________________________________________________________________________________________\n",
      "log_var (Dense)                 (None, 200)          819400      flatten[0][0]                    \n",
      "__________________________________________________________________________________________________\n",
      "encoder_output (Sampling)       (None, 200)          0           mu[0][0]                         \n",
      "                                                                 log_var[0][0]                    \n",
      "==================================================================================================\n",
      "Total params: 1,732,944\n",
      "Trainable params: 1,732,496\n",
      "Non-trainable params: 448\n",
      "__________________________________________________________________________________________________\n"
     ]
    }
   ],
   "source": [
    "vae.encoder.summary()"
   ]
  },
  {
   "cell_type": "code",
   "execution_count": 11,
   "metadata": {},
   "outputs": [
    {
     "name": "stdout",
     "output_type": "stream",
     "text": [
      "Model: \"decoder\"\n",
      "_________________________________________________________________\n",
      "Layer (type)                 Output Shape              Param #   \n",
      "=================================================================\n",
      "decoder_input (InputLayer)   [(None, 200)]             0         \n",
      "_________________________________________________________________\n",
      "dense (Dense)                (None, 4096)              823296    \n",
      "_________________________________________________________________\n",
      "reshape (Reshape)            (None, 8, 8, 64)          0         \n",
      "_________________________________________________________________\n",
      "decoder_conv_t_0 (Conv2DTran (None, 16, 16, 64)        36928     \n",
      "_________________________________________________________________\n",
      "batch_normalization_4 (Batch (None, 16, 16, 64)        256       \n",
      "_________________________________________________________________\n",
      "leaky_re_lu_4 (LeakyReLU)    (None, 16, 16, 64)        0         \n",
      "_________________________________________________________________\n",
      "dropout_4 (Dropout)          (None, 16, 16, 64)        0         \n",
      "_________________________________________________________________\n",
      "decoder_conv_t_1 (Conv2DTran (None, 32, 32, 64)        36928     \n",
      "_________________________________________________________________\n",
      "batch_normalization_5 (Batch (None, 32, 32, 64)        256       \n",
      "_________________________________________________________________\n",
      "leaky_re_lu_5 (LeakyReLU)    (None, 32, 32, 64)        0         \n",
      "_________________________________________________________________\n",
      "dropout_5 (Dropout)          (None, 32, 32, 64)        0         \n",
      "_________________________________________________________________\n",
      "decoder_conv_t_2 (Conv2DTran (None, 64, 64, 32)        18464     \n",
      "_________________________________________________________________\n",
      "batch_normalization_6 (Batch (None, 64, 64, 32)        128       \n",
      "_________________________________________________________________\n",
      "leaky_re_lu_6 (LeakyReLU)    (None, 64, 64, 32)        0         \n",
      "_________________________________________________________________\n",
      "dropout_6 (Dropout)          (None, 64, 64, 32)        0         \n",
      "_________________________________________________________________\n",
      "decoder_conv_t_3 (Conv2DTran (None, 128, 128, 3)       867       \n",
      "_________________________________________________________________\n",
      "activation (Activation)      (None, 128, 128, 3)       0         \n",
      "=================================================================\n",
      "Total params: 917,123\n",
      "Trainable params: 916,803\n",
      "Non-trainable params: 320\n",
      "_________________________________________________________________\n"
     ]
    }
   ],
   "source": [
    "vae.decoder.summary()"
   ]
  },
  {
   "cell_type": "markdown",
   "metadata": {},
   "source": [
    "## training"
   ]
  },
  {
   "cell_type": "code",
   "execution_count": 12,
   "metadata": {},
   "outputs": [
    {
     "data": {
      "text/plain": [
       "10"
      ]
     },
     "execution_count": 12,
     "metadata": {},
     "output_type": "execute_result"
    }
   ],
   "source": [
    "LEARNING_RATE = 0.0005\n",
    "PRINT_EVERY_N_BATCHES = 100\n",
    "INITIAL_EPOCH = 0\n",
    "EPOCHS"
   ]
  },
  {
   "cell_type": "code",
   "execution_count": 13,
   "metadata": {},
   "outputs": [
    {
     "data": {
      "text/plain": [
       "6330.0"
      ]
     },
     "execution_count": 13,
     "metadata": {},
     "output_type": "execute_result"
    }
   ],
   "source": [
    "steps_per_epoch = NUM_IMAGES / BATCH_SIZE\n",
    "steps_per_epoch"
   ]
  },
  {
   "cell_type": "code",
   "execution_count": 14,
   "metadata": {},
   "outputs": [],
   "source": [
    "vae.compile(LEARNING_RATE)"
   ]
  },
  {
   "cell_type": "code",
   "execution_count": 15,
   "metadata": {
    "scrolled": true
   },
   "outputs": [
    {
     "name": "stdout",
     "output_type": "stream",
     "text": [
      "Epoch 1/10\n",
      "6330/6330 [==============================] - ETA: 0s - loss: 202.7779 - reconstruction_loss: 136.6250 - kl_loss: 66.1529\n",
      "Epoch 00001: saving model to run/vae/0001_faces\\weights\\weights\n",
      "6330/6330 [==============================] - 802s 127ms/step - loss: 202.7765 - reconstruction_loss: 136.6244 - kl_loss: 66.1521\n",
      "Epoch 2/10\n",
      "6329/6330 [============================>.] - ETA: 0s - loss: 197.9092 - reconstruction_loss: 134.0183 - kl_loss: 63.8909\n",
      "Epoch 00002: saving model to run/vae/0001_faces\\weights\\weights\n",
      "6330/6330 [==============================] - 174s 27ms/step - loss: 197.9097 - reconstruction_loss: 134.0194 - kl_loss: 63.8902\n",
      "Epoch 3/10\n",
      "6329/6330 [============================>.] - ETA: 0s - loss: 196.2282 - reconstruction_loss: 133.0055 - kl_loss: 63.2227\n",
      "Epoch 00003: saving model to run/vae/0001_faces\\weights\\weights\n",
      "6330/6330 [==============================] - 175s 28ms/step - loss: 196.2283 - reconstruction_loss: 133.0049 - kl_loss: 63.2234\n",
      "Epoch 4/10\n",
      "6330/6330 [==============================] - ETA: 0s - loss: 195.3154 - reconstruction_loss: 132.3971 - kl_loss: 62.9183\n",
      "Epoch 00004: saving model to run/vae/0001_faces\\weights\\weights\n",
      "6330/6330 [==============================] - 174s 27ms/step - loss: 195.3155 - reconstruction_loss: 132.3969 - kl_loss: 62.9186\n",
      "Epoch 5/10\n",
      "6329/6330 [============================>.] - ETA: 0s - loss: 194.6233 - reconstruction_loss: 131.9185 - kl_loss: 62.7046\n",
      "Epoch 00005: saving model to run/vae/0001_faces\\weights\\weights\n",
      "6330/6330 [==============================] - 171s 27ms/step - loss: 194.6262 - reconstruction_loss: 131.9207 - kl_loss: 62.7054\n",
      "Epoch 6/10\n",
      "6329/6330 [============================>.] - ETA: 0s - loss: 194.1246 - reconstruction_loss: 131.5473 - kl_loss: 62.5773\n",
      "Epoch 00006: saving model to run/vae/0001_faces\\weights\\weights\n",
      "6330/6330 [==============================] - 174s 27ms/step - loss: 194.1265 - reconstruction_loss: 131.5488 - kl_loss: 62.5778\n",
      "Epoch 7/10\n",
      "6329/6330 [============================>.] - ETA: 0s - loss: 193.7962 - reconstruction_loss: 131.3006 - kl_loss: 62.4956\n",
      "Epoch 00007: saving model to run/vae/0001_faces\\weights\\weights\n",
      "6330/6330 [==============================] - 173s 27ms/step - loss: 193.7956 - reconstruction_loss: 131.3008 - kl_loss: 62.4948\n",
      "Epoch 8/10\n",
      "6329/6330 [============================>.] - ETA: 0s - loss: 193.4359 - reconstruction_loss: 131.0533 - kl_loss: 62.3825\n",
      "Epoch 00008: saving model to run/vae/0001_faces\\weights\\weights\n",
      "6330/6330 [==============================] - 182s 29ms/step - loss: 193.4343 - reconstruction_loss: 131.0529 - kl_loss: 62.3815\n",
      "Epoch 9/10\n",
      "6329/6330 [============================>.] - ETA: 0s - loss: 193.2171 - reconstruction_loss: 130.8502 - kl_loss: 62.3668\n",
      "Epoch 00009: saving model to run/vae/0001_faces\\weights\\weights\n",
      "6330/6330 [==============================] - 183s 29ms/step - loss: 193.2136 - reconstruction_loss: 130.8469 - kl_loss: 62.3666\n",
      "Epoch 10/10\n",
      "6329/6330 [============================>.] - ETA: 0s - loss: 192.9961 - reconstruction_loss: 130.6990 - kl_loss: 62.2971\n",
      "Epoch 00010: saving model to run/vae/0001_faces\\weights\\weights\n",
      "6330/6330 [==============================] - 184s 29ms/step - loss: 192.9936 - reconstruction_loss: 130.6973 - kl_loss: 62.2964\n",
      "Time elapsed: min 39, sec 56\n"
     ]
    }
   ],
   "source": [
    "start_time = datetime.datetime.now() #TIMER ON\n",
    "\n",
    "vae.train_with_generator(     \n",
    "    data_flow\n",
    "    , epochs = EPOCHS\n",
    "    , steps_per_epoch = NUM_IMAGES / BATCH_SIZE\n",
    "    , run_folder = RUN_FOLDER\n",
    "    , print_every_n_batches = PRINT_EVERY_N_BATCHES\n",
    "    , initial_epoch = INITIAL_EPOCH\n",
    "    , save_every_n_batches = 20\n",
    ")\n",
    "\n",
    "\n",
    "time_el =  datetime.datetime.now() - start_time #TIMER OFF\n",
    "print ('Time elapsed: min {:.0f}, sec {:.0f}'.format(time_el.total_seconds() // 60, time_el.total_seconds() % 60 ))"
   ]
  },
  {
   "cell_type": "code",
   "execution_count": 16,
   "metadata": {},
   "outputs": [
    {
     "data": {
      "text/plain": [
       "'run/vae/0001_faces\\\\weights/weights_.index'"
      ]
     },
     "execution_count": 16,
     "metadata": {},
     "output_type": "execute_result"
    }
   ],
   "source": [
    "#copy weghts\n",
    "suff = '.data-00000-of-00001'\n",
    "\n",
    "shutil.copy(os.path.join(RUN_FOLDER, 'weights/weights'+ suff), os.path.join(RUN_FOLDER, 'weights/weights_' + suff))\n",
    "shutil.copy(os.path.join(RUN_FOLDER, 'weights/weights.index'), os.path.join(RUN_FOLDER, 'weights/weights_.index'))\n"
   ]
  }
 ],
 "metadata": {
  "kernelspec": {
   "display_name": "Python 3",
   "language": "python",
   "name": "python3"
  },
  "language_info": {
   "codemirror_mode": {
    "name": "ipython",
    "version": 3
   },
   "file_extension": ".py",
   "mimetype": "text/x-python",
   "name": "python",
   "nbconvert_exporter": "python",
   "pygments_lexer": "ipython3",
   "version": "3.6.12"
  }
 },
 "nbformat": 4,
 "nbformat_minor": 2
}
