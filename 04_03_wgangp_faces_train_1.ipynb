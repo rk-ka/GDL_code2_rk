{
 "cells": [
  {
   "cell_type": "markdown",
   "metadata": {},
   "source": [
    "# WGAN-GP Training"
   ]
  },
  {
   "cell_type": "markdown",
   "metadata": {},
   "source": [
    "## imports"
   ]
  },
  {
   "cell_type": "code",
   "execution_count": 5,
   "metadata": {},
   "outputs": [],
   "source": [
    "%matplotlib inline\n",
    "\n",
    "import os\n",
    "import matplotlib.pyplot as plt\n",
    "\n",
    "from models.WGANGP import WGANGP\n",
    "from utils.loaders_a import load_celeb\n",
    "\n",
    "import pickle\n"
   ]
  },
  {
   "cell_type": "code",
   "execution_count": 62,
   "metadata": {},
   "outputs": [],
   "source": [
    "# run params\n",
    "SECTION = 'gan'\n",
    "RUN_ID = '0003'\n",
    "DATA_NAME = 'celeba_200k' #'celeb' ***на 1 уровень выше \n",
    "RUN_FOLDER = 'run/{}/'.format(SECTION)\n",
    "RUN_FOLDER += '_'.join([RUN_ID, DATA_NAME])\n",
    "\n",
    "if not os.path.exists(RUN_FOLDER):\n",
    "    os.mkdir(RUN_FOLDER)\n",
    "    os.mkdir(os.path.join(RUN_FOLDER, 'viz'))\n",
    "    os.mkdir(os.path.join(RUN_FOLDER, 'images'))\n",
    "    os.mkdir(os.path.join(RUN_FOLDER, 'weights'))\n",
    "\n",
    "    \n",
    "DS_path = 's:\\_ML\\Datasets'    \n",
    "\n",
    "mode =  'build' #'load' #"
   ]
  },
  {
   "cell_type": "markdown",
   "metadata": {},
   "source": [
    "## data"
   ]
  },
  {
   "cell_type": "code",
   "execution_count": 63,
   "metadata": {},
   "outputs": [],
   "source": [
    "BATCH_SIZE = 64\n",
    "IMAGE_SIZE = 64"
   ]
  },
  {
   "cell_type": "code",
   "execution_count": 65,
   "metadata": {},
   "outputs": [
    {
     "name": "stdout",
     "output_type": "stream",
     "text": [
      "Found 202560 images belonging to 1 classes.\n"
     ]
    }
   ],
   "source": [
    "x_train = load_celeb(DATA_NAME, IMAGE_SIZE, BATCH_SIZE, DS_path)"
   ]
  },
  {
   "cell_type": "code",
   "execution_count": 66,
   "metadata": {},
   "outputs": [
    {
     "data": {
      "text/plain": [
       "array([[[-0.40392157, -0.827451  , -0.84313726],\n",
       "        [-0.40392157, -0.827451  , -0.84313726],\n",
       "        [-0.40392157, -0.827451  , -0.84313726],\n",
       "        ...,\n",
       "        [-0.67058825, -0.9137255 , -0.92941177],\n",
       "        [-0.6784314 , -0.92156863, -0.9372549 ],\n",
       "        [-0.69411767, -0.92941177, -0.9137255 ]],\n",
       "\n",
       "       [[-0.40392157, -0.827451  , -0.84313726],\n",
       "        [-0.40392157, -0.827451  , -0.84313726],\n",
       "        [-0.40392157, -0.827451  , -0.84313726],\n",
       "        ...,\n",
       "        [-0.67058825, -0.9137255 , -0.92941177],\n",
       "        [-0.6784314 , -0.92156863, -0.9372549 ],\n",
       "        [-0.69411767, -0.92941177, -0.9137255 ]],\n",
       "\n",
       "       [[-0.40392157, -0.827451  , -0.84313726],\n",
       "        [-0.40392157, -0.827451  , -0.84313726],\n",
       "        [-0.40392157, -0.827451  , -0.84313726],\n",
       "        ...,\n",
       "        [-0.67058825, -0.9137255 , -0.92941177],\n",
       "        [-0.6784314 , -0.92156863, -0.9372549 ],\n",
       "        [-0.69411767, -0.92941177, -0.9137255 ]],\n",
       "\n",
       "       ...,\n",
       "\n",
       "       [[-0.23137255, -0.5529412 , -0.5686275 ],\n",
       "        [ 0.60784316,  0.3647059 ,  0.34117648],\n",
       "        [ 0.5764706 ,  0.30980393,  0.3019608 ],\n",
       "        ...,\n",
       "        [-0.8901961 , -0.8901961 , -0.8901961 ],\n",
       "        [-0.8980392 , -0.8980392 , -0.8980392 ],\n",
       "        [-0.8901961 , -0.8901961 , -0.8901961 ]],\n",
       "\n",
       "       [[-0.16078432, -0.52156866, -0.5058824 ],\n",
       "        [ 0.12156863, -0.12156863, -0.13725491],\n",
       "        [ 0.73333335,  0.49803922,  0.49803922],\n",
       "        ...,\n",
       "        [-0.88235295, -0.88235295, -0.88235295],\n",
       "        [-0.88235295, -0.88235295, -0.88235295],\n",
       "        [-0.90588236, -0.90588236, -0.90588236]],\n",
       "\n",
       "       [[-0.05882353, -0.5058824 , -0.4509804 ],\n",
       "        [-0.23137255, -0.48235294, -0.4745098 ],\n",
       "        [-0.3647059 , -0.52156866, -0.5294118 ],\n",
       "        ...,\n",
       "        [-0.96862745, -0.96862745, -0.96862745],\n",
       "        [-0.9843137 , -0.9843137 , -0.9843137 ],\n",
       "        [-0.9607843 , -0.9607843 , -0.9607843 ]]], dtype=float32)"
      ]
     },
     "execution_count": 66,
     "metadata": {},
     "output_type": "execute_result"
    }
   ],
   "source": [
    "x_train[0][0][0]"
   ]
  },
  {
   "cell_type": "code",
   "execution_count": 67,
   "metadata": {},
   "outputs": [
    {
     "data": {
      "text/plain": [
       "<matplotlib.image.AxesImage at 0x1975ee2e4a8>"
      ]
     },
     "execution_count": 67,
     "metadata": {},
     "output_type": "execute_result"
    },
    {
     "data": {
      "image/png": "[encoded data removed]",
      "text/plain": [
       "<Figure size 432x288 with 1 Axes>"
      ]
     },
     "metadata": {
      "needs_background": "light"
     },
     "output_type": "display_data"
    }
   ],
   "source": [
    "plt.imshow((x_train[0][0][0]+1)/2)"
   ]
  },
  {
   "cell_type": "markdown",
   "metadata": {},
   "source": [
    "## architecture"
   ]
  },
  {
   "cell_type": "code",
   "execution_count": 68,
   "metadata": {},
   "outputs": [],
   "source": [
    "gan = WGANGP(input_dim = (IMAGE_SIZE,IMAGE_SIZE,3)\n",
    "        , critic_conv_filters = [64,128,256,512]\n",
    "        , critic_conv_kernel_size = [5,5,5,5]\n",
    "        , critic_conv_strides = [2,2,2,2]\n",
    "        , critic_batch_norm_momentum = None\n",
    "        , critic_activation = 'leaky_relu'\n",
    "        , critic_dropout_rate = None\n",
    "        , critic_learning_rate = 0.0002\n",
    "        , generator_initial_dense_layer_size = (4, 4, 512)\n",
    "        , generator_upsample = [1,1,1,1]\n",
    "        , generator_conv_filters = [256,128,64,3]\n",
    "        , generator_conv_kernel_size = [5,5,5,5]\n",
    "        , generator_conv_strides = [2,2,2,2]\n",
    "        , generator_batch_norm_momentum = 0.9\n",
    "        , generator_activation = 'leaky_relu'\n",
    "        , generator_dropout_rate = None\n",
    "        , generator_learning_rate = 0.0002\n",
    "        , optimiser = 'adam'\n",
    "        , grad_weight = 10\n",
    "        , z_dim = 100\n",
    "        , batch_size = BATCH_SIZE\n",
    "        )\n",
    "\n",
    "if mode == 'build':\n",
    "    gan.save(RUN_FOLDER)\n",
    "\n",
    "else:\n",
    "    gan.load_weights(os.path.join(RUN_FOLDER, 'weights/weights.h5'))\n"
   ]
  },
  {
   "cell_type": "code",
   "execution_count": 69,
   "metadata": {},
   "outputs": [
    {
     "name": "stdout",
     "output_type": "stream",
     "text": [
      "Model: \"functional_1\"\n",
      "_________________________________________________________________\n",
      "Layer (type)                 Output Shape              Param #   \n",
      "=================================================================\n",
      "critic_input (InputLayer)    [(None, 64, 64, 3)]       0         \n",
      "_________________________________________________________________\n",
      "critic_conv_0 (Conv2D)       multiple                  4864      \n",
      "_________________________________________________________________\n",
      "leaky_re_lu (LeakyReLU)      multiple                  0         \n",
      "_________________________________________________________________\n",
      "critic_conv_1 (Conv2D)       multiple                  204928    \n",
      "_________________________________________________________________\n",
      "leaky_re_lu_1 (LeakyReLU)    multiple                  0         \n",
      "_________________________________________________________________\n",
      "critic_conv_2 (Conv2D)       multiple                  819456    \n",
      "_________________________________________________________________\n",
      "leaky_re_lu_2 (LeakyReLU)    multiple                  0         \n",
      "_________________________________________________________________\n",
      "critic_conv_3 (Conv2D)       multiple                  3277312   \n",
      "_________________________________________________________________\n",
      "leaky_re_lu_3 (LeakyReLU)    multiple                  0         \n",
      "_________________________________________________________________\n",
      "flatten (Flatten)            multiple                  0         \n",
      "_________________________________________________________________\n",
      "dense (Dense)                multiple                  8193      \n",
      "=================================================================\n",
      "Total params: 4,314,753\n",
      "Trainable params: 4,314,753\n",
      "Non-trainable params: 0\n",
      "_________________________________________________________________\n"
     ]
    }
   ],
   "source": [
    "gan.critic.summary()"
   ]
  },
  {
   "cell_type": "code",
   "execution_count": 70,
   "metadata": {},
   "outputs": [
    {
     "name": "stdout",
     "output_type": "stream",
     "text": [
      "Model: \"functional_3\"\n",
      "_________________________________________________________________\n",
      "Layer (type)                 Output Shape              Param #   \n",
      "=================================================================\n",
      "generator_input (InputLayer) [(None, 100)]             0         \n",
      "_________________________________________________________________\n",
      "dense_1 (Dense)              (None, 8192)              827392    \n",
      "_________________________________________________________________\n",
      "batch_normalization (BatchNo (None, 8192)              32768     \n",
      "_________________________________________________________________\n",
      "leaky_re_lu_4 (LeakyReLU)    (None, 8192)              0         \n",
      "_________________________________________________________________\n",
      "reshape (Reshape)            (None, 4, 4, 512)         0         \n",
      "_________________________________________________________________\n",
      "generator_conv_0 (Conv2DTran (None, 8, 8, 256)         3277056   \n",
      "_________________________________________________________________\n",
      "batch_normalization_1 (Batch (None, 8, 8, 256)         1024      \n",
      "_________________________________________________________________\n",
      "leaky_re_lu_5 (LeakyReLU)    (None, 8, 8, 256)         0         \n",
      "_________________________________________________________________\n",
      "generator_conv_1 (Conv2DTran (None, 16, 16, 128)       819328    \n",
      "_________________________________________________________________\n",
      "batch_normalization_2 (Batch (None, 16, 16, 128)       512       \n",
      "_________________________________________________________________\n",
      "leaky_re_lu_6 (LeakyReLU)    (None, 16, 16, 128)       0         \n",
      "_________________________________________________________________\n",
      "generator_conv_2 (Conv2DTran (None, 32, 32, 64)        204864    \n",
      "_________________________________________________________________\n",
      "batch_normalization_3 (Batch (None, 32, 32, 64)        256       \n",
      "_________________________________________________________________\n",
      "leaky_re_lu_7 (LeakyReLU)    (None, 32, 32, 64)        0         \n",
      "_________________________________________________________________\n",
      "generator_conv_3 (Conv2DTran (None, 64, 64, 3)         4803      \n",
      "_________________________________________________________________\n",
      "activation (Activation)      (None, 64, 64, 3)         0         \n",
      "=================================================================\n",
      "Total params: 5,168,003\n",
      "Trainable params: 5,150,723\n",
      "Non-trainable params: 17,280\n",
      "_________________________________________________________________\n"
     ]
    }
   ],
   "source": [
    "gan.generator.summary()"
   ]
  },
  {
   "cell_type": "markdown",
   "metadata": {},
   "source": [
    "## training"
   ]
  },
  {
   "cell_type": "code",
   "execution_count": 71,
   "metadata": {},
   "outputs": [],
   "source": [
    "EPOCHS = 100 #6000\n",
    "PRINT_EVERY_N_BATCHES = 5\n",
    "N_CRITIC = 5\n",
    "BATCH_SIZE = 64"
   ]
  },
  {
   "cell_type": "code",
   "execution_count": 72,
   "metadata": {},
   "outputs": [
    {
     "name": "stderr",
     "output_type": "stream",
     "text": [
      "WARNING: Logging before flag parsing goes to stderr.\n",
      "W0302 22:57:50.754100 19488 training_v1.py:1982] Discrepancy between trainable weights and collected trainable weights, did you set `model.trainable` without calling `model.compile` after ?\n",
      "W0302 22:57:57.482367 19488 training_v1.py:1982] Discrepancy between trainable weights and collected trainable weights, did you set `model.trainable` without calling `model.compile` after ?\n",
      "W0302 22:57:58.460899 19488 deprecation.py:323] From c:\\toolkits\\anaconda3\\envs\\gen_gpu\\lib\\site-packages\\tensorflow\\python\\keras\\engine\\training_v1.py:2070: Model.state_updates (from tensorflow.python.keras.engine.training) is deprecated and will be removed in a future version.\n",
      "Instructions for updating:\n",
      "This property should not be used in TensorFlow 2.0, as updates are applied automatically.\n"
     ]
    },
    {
     "name": "stdout",
     "output_type": "stream",
     "text": [
      "0 (5, 1) [D loss: (-3.8)(R -8.9, F 0.1, G 0.5)] [G loss: -6.3]\n",
      "1 (5, 1) [D loss: (-100.7)(R -185.9, F 2.7, G 8.3)] [G loss: -63.4]\n",
      "2 (5, 1) [D loss: (-146.6)(R -243.8, F 3.8, G 9.3)] [G loss: -72.7]\n",
      "3 (5, 1) [D loss: (-147.8)(R -238.9, F 5.5, G 8.6)] [G loss: -80.3]\n",
      "4 (5, 1) [D loss: (-151.6)(R -240.6, F 6.6, G 8.2)] [G loss: -83.1]\n",
      "5 (5, 1) [D loss: (-142.5)(R -242.5, F 9.0, G 9.1)] [G loss: -73.1]\n",
      "6 (5, 1) [D loss: (-139.9)(R -294.3, F 13.8, G 14.1)] [G loss: -56.8]\n",
      "7 (5, 1) [D loss: (-132.7)(R -215.7, F 11.7, G 7.1)] [G loss: -72.0]\n",
      "8 (5, 1) [D loss: (-160.3)(R -282.6, F 15.3, G 10.7)] [G loss: -62.7]\n",
      "9 (5, 1) [D loss: (-133.7)(R -226.4, F 14.4, G 7.8)] [G loss: -50.7]\n",
      "10 (5, 1) [D loss: (-140.6)(R -275.3, F 21.0, G 11.4)] [G loss: -34.4]\n",
      "11 (5, 1) [D loss: (-147.1)(R -232.3, F 15.1, G 7.0)] [G loss: -58.3]\n",
      "12 (5, 1) [D loss: (-143.7)(R -241.9, F 18.1, G 8.0)] [G loss: -46.3]\n",
      "13 (5, 1) [D loss: (-129.4)(R -165.6, F 1.6, G 3.5)] [G loss: -40.2]\n",
      "14 (5, 1) [D loss: (-142.5)(R -243.3, F 17.1, G 8.4)] [G loss: -30.4]\n",
      "15 (5, 1) [D loss: (-137.7)(R -245.2, F 20.2, G 8.7)] [G loss: -22.4]\n",
      "16 (5, 1) [D loss: (-134.4)(R -215.4, F 4.5, G 7.6)] [G loss: -36.4]\n",
      "17 (5, 1) [D loss: (-131.6)(R -198.0, F -1.7, G 6.8)] [G loss: -10.0]\n",
      "18 (5, 1) [D loss: (-129.7)(R -250.8, F 24.6, G 9.6)] [G loss: 25.8]\n",
      "19 (5, 1) [D loss: (-140.2)(R -234.5, F 19.4, G 7.5)] [G loss: -45.1]\n",
      "20 (5, 1) [D loss: (-132.1)(R -173.3, F -19.8, G 6.1)] [G loss: 13.2]\n",
      "21 (5, 1) [D loss: (-140.8)(R -221.3, F -10.2, G 9.1)] [G loss: 2.8]\n",
      "22 (5, 1) [D loss: (-143.3)(R -213.6, F 4.5, G 6.6)] [G loss: -27.7]\n",
      "23 (5, 1) [D loss: (-151.7)(R -271.6, F 21.6, G 9.8)] [G loss: -6.9]\n",
      "24 (5, 1) [D loss: (-141.8)(R -205.4, F -15.2, G 7.9)] [G loss: 0.8]\n",
      "25 (5, 1) [D loss: (-145.7)(R -259.0, F 10.5, G 10.3)] [G loss: 5.5]\n",
      "26 (5, 1) [D loss: (-127.6)(R -231.9, F 9.0, G 9.5)] [G loss: 4.4]\n",
      "27 (5, 1) [D loss: (-157.4)(R -231.6, F -6.9, G 8.1)] [G loss: -6.2]\n",
      "28 (5, 1) [D loss: (-134.9)(R -270.3, F 29.7, G 10.6)] [G loss: -13.4]\n",
      "29 (5, 1) [D loss: (-150.2)(R -268.1, F 21.3, G 9.7)] [G loss: -50.6]\n",
      "30 (5, 1) [D loss: (-127.1)(R -260.0, F 45.1, G 8.8)] [G loss: -29.5]\n",
      "31 (5, 1) [D loss: (-148.5)(R -270.3, F 30.6, G 9.1)] [G loss: -59.3]\n",
      "32 (5, 1) [D loss: (-134.2)(R -279.4, F 54.8, G 9.0)] [G loss: -78.3]\n",
      "33 (5, 1) [D loss: (-125.7)(R -266.4, F 46.0, G 9.5)] [G loss: -70.3]\n",
      "34 (5, 1) [D loss: (-137.5)(R -279.1, F 71.6, G 7.0)] [G loss: -103.7]\n",
      "35 (5, 1) [D loss: (-106.9)(R -238.4, F 62.2, G 6.9)] [G loss: -129.6]\n",
      "36 (5, 1) [D loss: (-104.2)(R -213.8, F 54.2, G 5.5)] [G loss: -136.6]\n",
      "37 (5, 1) [D loss: (-97.8)(R -227.4, F 82.1, G 4.7)] [G loss: -129.8]\n",
      "38 (5, 1) [D loss: (-83.9)(R -209.5, F 88.4, G 3.7)] [G loss: -85.6]\n",
      "39 (5, 1) [D loss: (-77.7)(R -191.6, F 77.0, G 3.7)] [G loss: -80.1]\n",
      "40 (5, 1) [D loss: (-73.7)(R -169.9, F 66.2, G 3.0)] [G loss: -58.2]\n",
      "41 (5, 1) [D loss: (-63.8)(R -183.8, F 88.0, G 3.2)] [G loss: -88.2]\n",
      "42 (5, 1) [D loss: (-57.6)(R -168.2, F 86.6, G 2.4)] [G loss: -75.3]\n",
      "43 (5, 1) [D loss: (-57.9)(R -193.8, F 109.1, G 2.7)] [G loss: -79.6]\n",
      "44 (5, 1) [D loss: (-63.9)(R -186.4, F 99.2, G 2.3)] [G loss: -45.1]\n",
      "45 (5, 1) [D loss: (-62.9)(R -188.5, F 101.7, G 2.4)] [G loss: -101.4]\n",
      "46 (5, 1) [D loss: (-76.8)(R -211.7, F 110.7, G 2.4)] [G loss: -109.3]\n",
      "47 (5, 1) [D loss: (-89.7)(R -225.0, F 76.5, G 5.9)] [G loss: -90.4]\n",
      "48 (5, 1) [D loss: (-79.5)(R -204.9, F 96.3, G 2.9)] [G loss: -96.2]\n",
      "49 (5, 1) [D loss: (-71.4)(R -190.7, F 92.4, G 2.7)] [G loss: -90.7]\n",
      "50 (5, 1) [D loss: (-96.2)(R -201.6, F 79.5, G 2.6)] [G loss: -136.6]\n",
      "51 (5, 1) [D loss: (-81.0)(R -222.6, F 77.8, G 6.4)] [G loss: -156.4]\n",
      "52 (5, 1) [D loss: (-68.2)(R -215.3, F 103.7, G 4.3)] [G loss: -137.5]\n",
      "53 (5, 1) [D loss: (-85.6)(R -230.4, F 106.4, G 3.8)] [G loss: -149.6]\n",
      "54 (5, 1) [D loss: (-113.2)(R -263.6, F 85.6, G 6.5)] [G loss: -166.9]\n",
      "55 (5, 1) [D loss: (-69.5)(R -223.7, F 113.3, G 4.1)] [G loss: -156.9]\n",
      "56 (5, 1) [D loss: (-101.7)(R -226.2, F 80.8, G 4.4)] [G loss: -187.1]\n",
      "57 (5, 1) [D loss: (-114.3)(R -307.5, F 114.8, G 7.8)] [G loss: -203.9]\n",
      "58 (5, 1) [D loss: (-113.5)(R -256.2, F 108.4, G 3.4)] [G loss: -199.9]\n",
      "59 (5, 1) [D loss: (-96.5)(R -299.5, F 148.6, G 5.4)] [G loss: -227.6]\n",
      "60 (5, 1) [D loss: (-89.7)(R -281.4, F 138.5, G 5.3)] [G loss: -235.3]\n",
      "61 (5, 1) [D loss: (-95.7)(R -267.2, F 136.3, G 3.5)] [G loss: -256.9]\n",
      "62 (5, 1) [D loss: (-60.2)(R -284.3, F 183.7, G 4.0)] [G loss: -228.5]\n",
      "63 (5, 1) [D loss: (-68.6)(R -221.4, F 138.7, G 1.4)] [G loss: -226.8]\n",
      "64 (5, 1) [D loss: (-69.6)(R -237.0, F 136.0, G 3.1)] [G loss: -240.6]\n",
      "65 (5, 1) [D loss: (-55.1)(R -212.6, F 138.5, G 1.9)] [G loss: -199.4]\n",
      "66 (5, 1) [D loss: (-71.0)(R -243.5, F 134.6, G 3.8)] [G loss: -228.8]\n",
      "67 (5, 1) [D loss: (-48.6)(R -201.1, F 131.1, G 2.1)] [G loss: -201.4]\n",
      "68 (5, 1) [D loss: (-41.9)(R -210.4, F 148.0, G 2.0)] [G loss: -178.6]\n",
      "69 (5, 1) [D loss: (-59.2)(R -183.4, F 105.6, G 1.9)] [G loss: -174.5]\n",
      "70 (5, 1) [D loss: (-75.5)(R -197.9, F 73.1, G 4.9)] [G loss: -192.3]\n",
      "71 (5, 1) [D loss: (-34.2)(R -193.0, F 148.1, G 1.1)] [G loss: -176.0]\n",
      "72 (5, 1) [D loss: (-59.0)(R -153.0, F 75.1, G 1.9)] [G loss: -115.6]\n",
      "73 (5, 1) [D loss: (-46.9)(R -171.0, F 110.5, G 1.4)] [G loss: -119.1]\n",
      "74 (5, 1) [D loss: (-44.4)(R -139.8, F 83.4, G 1.2)] [G loss: -124.7]\n",
      "75 (5, 1) [D loss: (-40.7)(R -139.1, F 73.6, G 2.5)] [G loss: -125.7]\n",
      "76 (5, 1) [D loss: (-36.5)(R -160.3, F 116.1, G 0.8)] [G loss: -96.7]\n",
      "77 (5, 1) [D loss: (-43.5)(R -163.3, F 106.9, G 1.3)] [G loss: -111.3]\n",
      "78 (5, 1) [D loss: (-48.6)(R -156.8, F 91.8, G 1.6)] [G loss: -92.6]\n",
      "79 (5, 1) [D loss: (-36.9)(R -150.5, F 103.1, G 1.1)] [G loss: -96.1]\n",
      "80 (5, 1) [D loss: (-34.4)(R -99.3, F 54.1, G 1.1)] [G loss: -62.5]\n",
      "81 (5, 1) [D loss: (-43.2)(R -103.2, F 48.0, G 1.2)] [G loss: -48.0]\n",
      "82 (5, 1) [D loss: (-43.8)(R -141.7, F 83.6, G 1.4)] [G loss: -77.1]\n",
      "83 (5, 1) [D loss: (-41.2)(R -111.3, F 55.2, G 1.5)] [G loss: -67.7]\n",
      "84 (5, 1) [D loss: (-43.9)(R -144.1, F 84.3, G 1.6)] [G loss: -77.8]\n",
      "85 (5, 1) [D loss: (-38.0)(R -147.4, F 93.3, G 1.6)] [G loss: -78.9]\n",
      "86 (5, 1) [D loss: (-45.5)(R -158.6, F 99.1, G 1.4)] [G loss: -92.8]\n",
      "87 (5, 1) [D loss: (-53.5)(R -160.8, F 91.6, G 1.6)] [G loss: -93.7]\n",
      "88 (5, 1) [D loss: (-49.8)(R -172.5, F 103.9, G 1.9)] [G loss: -97.9]\n",
      "89 (5, 1) [D loss: (-48.6)(R -160.0, F 97.2, G 1.4)] [G loss: -101.7]\n",
      "90 (5, 1) [D loss: (-40.1)(R -156.3, F 96.5, G 2.0)] [G loss: -86.1]\n",
      "91 (5, 1) [D loss: (-48.0)(R -160.0, F 92.8, G 1.9)] [G loss: -91.2]\n",
      "92 (5, 1) [D loss: (-46.2)(R -160.8, F 96.0, G 1.9)] [G loss: -95.5]\n",
      "93 (5, 1) [D loss: (-46.7)(R -157.4, F 91.6, G 1.9)] [G loss: -96.1]\n",
      "94 (5, 1) [D loss: (-46.6)(R -179.0, F 110.4, G 2.2)] [G loss: -99.4]\n",
      "95 (5, 1) [D loss: (-49.9)(R -174.2, F 105.7, G 1.9)] [G loss: -116.3]\n",
      "96 (5, 1) [D loss: (-36.7)(R -129.6, F 77.9, G 1.5)] [G loss: -76.2]\n",
      "97 (5, 1) [D loss: (-42.4)(R -122.0, F 67.1, G 1.3)] [G loss: -66.6]\n",
      "98 (5, 1) [D loss: (-48.6)(R -149.4, F 86.7, G 1.4)] [G loss: -105.0]\n",
      "99 (5, 1) [D loss: (-43.3)(R -144.2, F 88.5, G 1.2)] [G loss: -92.2]\n"
     ]
    }
   ],
   "source": [
    "gan.train(     \n",
    "    x_train\n",
    "    , batch_size = BATCH_SIZE\n",
    "    , epochs = EPOCHS\n",
    "    , run_folder = RUN_FOLDER\n",
    "    , print_every_n_batches = PRINT_EVERY_N_BATCHES\n",
    "    , n_critic = N_CRITIC\n",
    "    , using_generator = True\n",
    ")"
   ]
  },
  {
   "cell_type": "code",
   "execution_count": 73,
   "metadata": {},
   "outputs": [
    {
     "data": {
      "image/png": "[encoded data removed]",
      "text/plain": [
       "<Figure size 432x288 with 1 Axes>"
      ]
     },
     "metadata": {
      "needs_background": "light"
     },
     "output_type": "display_data"
    }
   ],
   "source": [
    "fig = plt.figure()\n",
    "plt.plot([x[0] for x in gan.d_losses], color='black', linewidth=0.25)\n",
    "\n",
    "plt.plot([x[1] for x in gan.d_losses], color='green', linewidth=0.25)\n",
    "plt.plot([x[2] for x in gan.d_losses], color='red', linewidth=0.25)\n",
    "plt.plot(gan.g_losses, color='orange', linewidth=0.25)\n",
    "\n",
    "plt.xlabel('batch', fontsize=18)\n",
    "plt.ylabel('loss', fontsize=16)\n",
    "\n",
    "plt.xlim(0, 2000)\n",
    "# plt.ylim(0, 2)\n",
    "\n",
    "plt.show()\n"
   ]
  }
 ],
 "metadata": {
  "kernelspec": {
   "display_name": "Python 3",
   "language": "python",
   "name": "python3"
  },
  "language_info": {
   "codemirror_mode": {
    "name": "ipython",
    "version": 3
   },
   "file_extension": ".py",
   "mimetype": "text/x-python",
   "name": "python",
   "nbconvert_exporter": "python",
   "pygments_lexer": "ipython3",
   "version": "3.6.12"
  }
 },
 "nbformat": 4,
 "nbformat_minor": 2
}
